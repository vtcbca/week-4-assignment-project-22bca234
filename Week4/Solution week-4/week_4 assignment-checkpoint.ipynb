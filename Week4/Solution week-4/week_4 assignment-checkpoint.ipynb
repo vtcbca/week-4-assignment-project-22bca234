{
 "cells": [
  {
   "cell_type": "code",
   "execution_count": 15,
   "id": "add26c0f",
   "metadata": {},
   "outputs": [],
   "source": [
    "import sqlite3 as sq\n",
    "import pandas as pd"
   ]
  },
  {
   "cell_type": "code",
   "execution_count": 16,
   "id": "c5b7697e",
   "metadata": {},
   "outputs": [],
   "source": [
    "con=sq.connect('D:\\\\Aastha\\\\22BCA234\\\\DB&PYTHON\\\\contact_management_system.db')"
   ]
  },
  {
   "cell_type": "code",
   "execution_count": 17,
   "id": "7e4e32fd",
   "metadata": {},
   "outputs": [],
   "source": [
    "cur=con.cursor()"
   ]
  },
  {
   "cell_type": "markdown",
   "id": "db25b497",
   "metadata": {},
   "source": [
    "### Create table contact(fname,laname,contact,email,city)"
   ]
  },
  {
   "cell_type": "code",
   "execution_count": 18,
   "id": "436235a9",
   "metadata": {},
   "outputs": [],
   "source": [
    "table1='''create table IF NOT EXISTS contact\n",
    "           (\n",
    "               fname text NOT NULL,\n",
    "               lname text NOT NULL,\n",
    "               contact_no int,\n",
    "               email text,\n",
    "               city text\n",
    "            ) '''"
   ]
  },
  {
   "cell_type": "code",
   "execution_count": 19,
   "id": "274ae746",
   "metadata": {},
   "outputs": [],
   "source": [
    "def create_table(table1):\n",
    "    cur.execute(table1)\n",
    "    con.commit()\n",
    "    "
   ]
  },
  {
   "cell_type": "markdown",
   "id": "01e12e60",
   "metadata": {},
   "source": [
    "### if inserted and deleted then maintain detail about fname,lname, contact and datatime."
   ]
  },
  {
   "cell_type": "code",
   "execution_count": 20,
   "id": "1b8b2580",
   "metadata": {},
   "outputs": [],
   "source": [
    "log_detail_tbl='''create table IF NOT EXISTS insert_delete_logtbl\n",
    "                   (\n",
    "                       fname text NOT NULL,\n",
    "                       lname text NOT NULL,\n",
    "                       contact_no int,\n",
    "                       date_time text,\n",
    "                       operation_name text\n",
    "                    )'''"
   ]
  },
  {
   "cell_type": "code",
   "execution_count": 21,
   "id": "b982267a",
   "metadata": {},
   "outputs": [],
   "source": [
    "def log_detials(log_detail_tbl):\n",
    "    cur.execute(log_detail_tbl)\n",
    "    con.commit()"
   ]
  },
  {
   "cell_type": "markdown",
   "id": "ee40fa40",
   "metadata": {},
   "source": [
    "### if record is updated then maintain logtable with old and new value of contacts.Also maintain log regarding above operation in logtable with operation name with datetime."
   ]
  },
  {
   "cell_type": "code",
   "execution_count": 22,
   "id": "c859f20a",
   "metadata": {},
   "outputs": [],
   "source": [
    "log_detail_tbl2='''create table IF NOT EXISTS update_logtbl\n",
    "                   (\n",
    "                       fname text NOT NULL,\n",
    "                       lname text NOT NULL,\n",
    "                       old_contact int,\n",
    "                       new_contact int,\n",
    "                       date_time text,\n",
    "                       operation_name text\n",
    "                    )'''"
   ]
  },
  {
   "cell_type": "code",
   "execution_count": 23,
   "id": "e4f7326e",
   "metadata": {},
   "outputs": [],
   "source": [
    "def log_detial2(log_detail_tbl2):\n",
    "    cur.execute(log_detail_tbl2)\n",
    "    con.commit()"
   ]
  },
  {
   "cell_type": "code",
   "execution_count": 34,
   "id": "7dc5b780",
   "metadata": {},
   "outputs": [],
   "source": [
    "def validate_trigger():\n",
    "    cur.execute('''create trigger IF NOT EXISTS validate_fields\n",
    "                    BEFORE INSERT ON contact\n",
    "                    BEGIN\n",
    "                        SELECT \n",
    "                            CASE\n",
    "                             WHEN new.email NOT LIKE '%@%.%' THEN\n",
    "                                 RAISE(ABORT,'INVALID EMAIL ADDRESS.PLEASE RE-ENTER THE CORRECT EMAIL ADDRESS')\n",
    "                             WHEN LENGTH(new.contact)!=10\n",
    "                             AND SUBSTR(new.contact,1,1) NOT BETWEEN '6' AND '9' THEN\n",
    "                                 RAISE(ABORT,'INVALID CONTACT NUMBER.PLEASE RE-ENTER THE CORRECT CONTACT NUMBER')\n",
    "                           END;\n",
    "                    END;\n",
    "                ''')\n",
    "    con.commit()"
   ]
  },
  {
   "cell_type": "code",
   "execution_count": 48,
   "id": "76a89e4e",
   "metadata": {},
   "outputs": [],
   "source": [
    "def trigger_on_operation():\n",
    "    cur.execute('''create trigger IF NOT EXISTS insert_operation\n",
    "                    AFTER INSERT ON contact\n",
    "                    BEGIN\n",
    "                        INSERT INTO insert_delete_logtbl VALUES(new.fname,new.lname,new.contact_no,\n",
    "                                                                datetime('now'),'Insert');\n",
    "                    END;''')\n",
    "    cur.execute('''create trigger IF NOT EXISTS delete_operation\n",
    "                    AFTER DELETE ON contact\n",
    "                    BEGIN\n",
    "                        INSERT INTO insert_delete_logtbl VALUES(OLD.fname,new.lname,new.contact_no,\n",
    "                                                                datetime('now'),'Delete');\n",
    "                    END;''')\n",
    "    cur.execute('''create trigger IF NOT EXISTS update_operation\n",
    "                    AFTER UPDATE ON contact\n",
    "                    BEGIN\n",
    "                        INSERT INTO update_logtbl VALUES(new.fname,new.lname,old.contact_no,new.contact_no,\n",
    "                                                                datetime('now'),'Update');\n",
    "                    END;''')\n",
    "    con.commit()"
   ]
  },
  {
   "cell_type": "markdown",
   "id": "aeef905a",
   "metadata": {},
   "source": [
    "Perform following operation on it.\n",
    "\n",
    "1. Insert Contact"
   ]
  },
  {
   "cell_type": "code",
   "execution_count": 42,
   "id": "e3e99138",
   "metadata": {},
   "outputs": [],
   "source": [
    "def insert_records():\n",
    "    n=int(input('How many records do you want to enter ?'))\n",
    "    input_list=[]\n",
    "    insert_rec='INSERT INTO contact VALUES(?,?,?,?,?)'\n",
    "    for i in range(n):\n",
    "        fname=input('Enter First name : ')\n",
    "        lname=input('Enter Last name : ')\n",
    "        contact_no=int(input('Enter the contact number : '))\n",
    "        email=input('Enter your EMAIL ID : ')\n",
    "        city=input('Enter your CITY : ')\n",
    "        t=(fname,lname,contact_no,email,city)\n",
    "        input_list.append(t)\n",
    "        cur.executemany(insert_rec,t)\n",
    "    print('Records has been inserted...!')\n",
    "    con.commit()"
   ]
  },
  {
   "cell_type": "markdown",
   "id": "5f921273",
   "metadata": {},
   "source": [
    "2. Update Contact"
   ]
  },
  {
   "cell_type": "code",
   "execution_count": 27,
   "id": "c641d776",
   "metadata": {},
   "outputs": [],
   "source": [
    "def update_records():\n",
    "    name_input=input('Enter the FIRST NAME of the person whose contact number you want to update:')\n",
    "    new_contact_no=input('Enter the new contact number : ')\n",
    "    cur.execute(f\"UPDATE contact SET contact_no= '{new_contact_no}' where fname='{name_input}'\")\n",
    "    print('Contact Number has been updated')\n",
    "    con.commit()"
   ]
  },
  {
   "cell_type": "markdown",
   "id": "58a1bd64",
   "metadata": {},
   "source": [
    "3. Delete Contact"
   ]
  },
  {
   "cell_type": "code",
   "execution_count": 28,
   "id": "ed69897a",
   "metadata": {},
   "outputs": [],
   "source": [
    "def delete_records():\n",
    "    del_input=input('Enter the FIRST NAME of the person whose contact number you want to delete:')\n",
    "    cur.execute(f\"DELETE FROM contact where fname='{del_input}'\")\n",
    "    print('Contact Number has been deleted')\n",
    "    con.commit()"
   ]
  },
  {
   "cell_type": "markdown",
   "id": "39ac658f",
   "metadata": {},
   "source": [
    "4. Search Contact "
   ]
  },
  {
   "cell_type": "code",
   "execution_count": 29,
   "id": "b82a6994",
   "metadata": {},
   "outputs": [],
   "source": [
    "def search_records():\n",
    "    search_input=input('Enter the FIRST NAME of the person whose contact details you want :')\n",
    "    cur.execute(f\"SELECT * FROM contact where fname='{search_input}'\")\n",
    "    pd.DataFrame(cur.fetchall(),columns=['FNAME','LNAME','CONTACT_NO','EMAIL','CITY'])\n",
    "    con.commit()\n",
    "   "
   ]
  },
  {
   "cell_type": "code",
   "execution_count": 30,
   "id": "0818d6ad",
   "metadata": {},
   "outputs": [],
   "source": [
    "def show_contact_tbl():\n",
    "    sel='SELECT * FROM  contact'\n",
    "    cur.execute(sel)\n",
    "    pd.DataFrame(cur.fetchall(),columns=['FNAME','LNAME','CONTACT_NO','EMAIL','CITY'])\n",
    "    con.commit()"
   ]
  },
  {
   "cell_type": "code",
   "execution_count": 31,
   "id": "9fb928a5",
   "metadata": {},
   "outputs": [],
   "source": [
    "def show_log_tbl():\n",
    "    sel='SELECT * FROM insert_delete_logtbl '\n",
    "    cur.execute(sel)\n",
    "    pd.DataFrame(cur.fetchall(),columns=['FNAME','LNAME','CONTACT_NO','Date_time','operation_name'])\n",
    "    con.commit()"
   ]
  },
  {
   "cell_type": "code",
   "execution_count": 14,
   "id": "c6ba0838",
   "metadata": {},
   "outputs": [],
   "source": [
    "def show_log_upd_tbl():\n",
    "    sel='SELECT * FROM update_logtbl '\n",
    "    cur.execute(sel)\n",
    "    pd.DataFrame(cur.fetchall(),columns=['FNAME','LNAME','OLD_CONTACT_NO','NEW_CONTACT_NO','Date_time','operation_name'])\n",
    "    con.commit()"
   ]
  },
  {
   "cell_type": "code",
   "execution_count": 46,
   "id": "b1611176",
   "metadata": {},
   "outputs": [],
   "source": [
    "def main_function():\n",
    "    create_table(table1)\n",
    "    log_detials(log_detail_tbl)\n",
    "    log_detial2(log_detail_tbl2)\n",
    "    validate_trigger()\n",
    "    trigger_on_operation()\n",
    "    insert_records()\n",
    "    update_records()\n",
    "    delete_records()\n",
    "    search_records()\n",
    "    show_contact_tbl()\n",
    "    show_log_tbl()\n",
    "    show_log_upd_tbl()\n",
    "main_function()\n"
   ]
  }
 ],
 "metadata": {
  "kernelspec": {
   "display_name": "Python 3 (ipykernel)",
   "language": "python",
   "name": "python3"
  },
  "language_info": {
   "codemirror_mode": {
    "name": "ipython",
    "version": 3
   },
   "file_extension": ".py",
   "mimetype": "text/x-python",
   "name": "python",
   "nbconvert_exporter": "python",
   "pygments_lexer": "ipython3",
   "version": "3.10.7"
  }
 },
 "nbformat": 4,
 "nbformat_minor": 5
}
